{
 "cells": [
  {
   "cell_type": "code",
   "execution_count": 55,
   "metadata": {},
   "outputs": [],
   "source": [
    "import json\n",
    "import numpy as np\n",
    "from sklearn.model_selection import train_test_split\n",
    "import matplotlib.pyplot as plt\n",
    "import tensorflow.keras\n",
    "from tensorflow.keras.models import Sequential\n",
    "from tensorflow.keras.layers import Dense\n",
    "from tensorflow.keras.optimizers import Adam\n",
    "from tensorflow.python.keras.utils.np_utils import to_categorical\n",
    "from tensorflow.keras.layers import MaxPooling2D,Conv2D,Dropout,Flatten,BatchNormalization\n"
   ]
  },
  {
   "cell_type": "code",
   "execution_count": 6,
   "metadata": {},
   "outputs": [
    {
     "data": {
      "text/plain": [
       "str"
      ]
     },
     "execution_count": 6,
     "metadata": {},
     "output_type": "execute_result"
    }
   ],
   "source": [
    "data_path = 'C:\\\\Users\\\\sanja\\\\PycharmProjects\\\\Music_Genre\\\\data_10.json'"
   ]
  },
  {
   "cell_type": "code",
   "execution_count": 104,
   "metadata": {},
   "outputs": [],
   "source": [
    "def load_data(data_path):\n",
    "  \n",
    "\n",
    "    with open(data_path, \"r\") as fp:\n",
    "        data = json.load(fp)\n",
    "\n",
    "    X = np.array(data[\"mfcc\"])\n",
    "    y = np.array(data[\"labels\"])\n",
    "    print(\"Data succesfully loaded!\")\n",
    "    return X, y"
   ]
  },
  {
   "cell_type": "code",
   "execution_count": 105,
   "metadata": {},
   "outputs": [
    {
     "name": "stdout",
     "output_type": "stream",
     "text": [
      "Data succesfully loaded!\n"
     ]
    }
   ],
   "source": [
    "X, y = load_data(data_path)"
   ]
  },
  {
   "cell_type": "code",
   "execution_count": 106,
   "metadata": {},
   "outputs": [
    {
     "name": "stdout",
     "output_type": "stream",
     "text": [
      "(9986, 130, 13)\n",
      "(9986,)\n"
     ]
    }
   ],
   "source": [
    "print(X.shape)\n",
    "print(y.shape)"
   ]
  },
  {
   "cell_type": "code",
   "execution_count": 107,
   "metadata": {},
   "outputs": [],
   "source": [
    "X_train,X_test,y_train,y_test = train_test_split(X,y,test_size=0.25)\n",
    "X_train,X_validation,y_train,y_validation = train_test_split(X_train,y_train,test_size=0.2)"
   ]
  },
  {
   "cell_type": "code",
   "execution_count": 108,
   "metadata": {},
   "outputs": [
    {
     "name": "stdout",
     "output_type": "stream",
     "text": [
      "(5991, 130, 13)\n",
      "(2497, 130, 13)\n"
     ]
    }
   ],
   "source": [
    "print(X_train.shape)\n",
    "print(X_test.shape)"
   ]
  },
  {
   "cell_type": "code",
   "execution_count": 99,
   "metadata": {},
   "outputs": [],
   "source": [
    "X_train = X_train[...,np.newaxis]\n",
    "X_test = X_test[...,np.newaxis]\n",
    "X_validation = X_validation[...,np.newaxis]\n",
    "#X_train = X_train.reshape(5991,130,13,1)"
   ]
  },
  {
   "cell_type": "code",
   "execution_count": 100,
   "metadata": {},
   "outputs": [
    {
     "data": {
      "text/plain": [
       "(5991, 130, 13, 1)"
      ]
     },
     "execution_count": 100,
     "metadata": {},
     "output_type": "execute_result"
    }
   ],
   "source": [
    "X_train.shape"
   ]
  },
  {
   "cell_type": "code",
   "execution_count": 78,
   "metadata": {},
   "outputs": [],
   "source": [
    "input_shape = (X_train.shape[1], X_train.shape[2], 1)"
   ]
  },
  {
   "cell_type": "code",
   "execution_count": 79,
   "metadata": {},
   "outputs": [],
   "source": [
    "def create_model(input_shape):\n",
    "    \n",
    "    model = Sequential()\n",
    "    model.add(Conv2D(32,(3,3),input_shape=input_shape,activation = 'relu'))\n",
    "    model.add(MaxPooling2D((3,3),padding='same'))\n",
    "    model.add(BatchNormalization())\n",
    "    \n",
    "    model.add(Conv2D(32,(3,3),activation = 'relu'))\n",
    "    model.add(MaxPooling2D((3,3),padding='same'))\n",
    "    model.add(BatchNormalization())\n",
    "    \n",
    "    \n",
    "#     model.add(Conv2D(5,(3,3),activation = 'relu'))\n",
    "#     model.add(MaxPooling2D((3,3),padding='same'))\n",
    "#     model.add(BatchNormalization())\n",
    "    \n",
    "    model.add(Flatten())\n",
    "    model.add(Dense(64,activation='relu'))\n",
    "    model.add(Dropout(0.3))\n",
    "    \n",
    "    model.add(Dense(10, activation='softmax'))\n",
    "    \n",
    "    model.compile(Adam(lr = 0.0001),loss='sparse_categorical_crossentropy',metrics=['accuracy'])\n",
    "    \n",
    "    return model"
   ]
  },
  {
   "cell_type": "code",
   "execution_count": 80,
   "metadata": {},
   "outputs": [
    {
     "name": "stdout",
     "output_type": "stream",
     "text": [
      "_________________________________________________________________\n",
      "Layer (type)                 Output Shape              Param #   \n",
      "=================================================================\n",
      "conv2d_35 (Conv2D)           (None, 128, 11, 32)       320       \n",
      "_________________________________________________________________\n",
      "max_pooling2d_26 (MaxPooling (None, 43, 4, 32)         0         \n",
      "_________________________________________________________________\n",
      "batch_normalization_v1_13 (B (None, 43, 4, 32)         128       \n",
      "_________________________________________________________________\n",
      "conv2d_36 (Conv2D)           (None, 41, 2, 32)         9248      \n",
      "_________________________________________________________________\n",
      "max_pooling2d_27 (MaxPooling (None, 14, 1, 32)         0         \n",
      "_________________________________________________________________\n",
      "batch_normalization_v1_14 (B (None, 14, 1, 32)         128       \n",
      "_________________________________________________________________\n",
      "flatten_3 (Flatten)          (None, 448)               0         \n",
      "_________________________________________________________________\n",
      "dense_6 (Dense)              (None, 64)                28736     \n",
      "_________________________________________________________________\n",
      "dropout_3 (Dropout)          (None, 64)                0         \n",
      "_________________________________________________________________\n",
      "dense_7 (Dense)              (None, 10)                650       \n",
      "=================================================================\n",
      "Total params: 39,210\n",
      "Trainable params: 39,082\n",
      "Non-trainable params: 128\n",
      "_________________________________________________________________\n"
     ]
    }
   ],
   "source": [
    "model = create_model(input_shape)\n",
    "model.summary()"
   ]
  },
  {
   "cell_type": "code",
   "execution_count": 81,
   "metadata": {},
   "outputs": [
    {
     "name": "stdout",
     "output_type": "stream",
     "text": [
      "Train on 5991 samples, validate on 1498 samples\n",
      "Epoch 1/30\n",
      "5991/5991 [==============================] - 6s 944us/sample - loss: 2.3890 - acc: 0.2028 - val_loss: 1.8774 - val_acc: 0.3304\n",
      "Epoch 2/30\n",
      "5991/5991 [==============================] - 4s 728us/sample - loss: 1.8426 - acc: 0.3609 - val_loss: 1.6005 - val_acc: 0.4266\n",
      "Epoch 3/30\n",
      "5991/5991 [==============================] - 7s 1ms/sample - loss: 1.6821 - acc: 0.4034 - val_loss: 1.4747 - val_acc: 0.4680\n",
      "Epoch 4/30\n",
      "5991/5991 [==============================] - 7s 1ms/sample - loss: 1.5673 - acc: 0.4328 - val_loss: 1.4033 - val_acc: 0.4893\n",
      "Epoch 5/30\n",
      "5991/5991 [==============================] - 7s 1ms/sample - loss: 1.4850 - acc: 0.4612 - val_loss: 1.3601 - val_acc: 0.5047\n",
      "Epoch 6/30\n",
      "5991/5991 [==============================] - 7s 1ms/sample - loss: 1.4169 - acc: 0.4919 - val_loss: 1.2999 - val_acc: 0.5314\n",
      "Epoch 7/30\n",
      "5991/5991 [==============================] - 7s 1ms/sample - loss: 1.3749 - acc: 0.4946 - val_loss: 1.2564 - val_acc: 0.5421\n",
      "Epoch 8/30\n",
      "5991/5991 [==============================] - 7s 1ms/sample - loss: 1.3393 - acc: 0.5193 - val_loss: 1.2336 - val_acc: 0.5514\n",
      "Epoch 9/30\n",
      "5991/5991 [==============================] - 7s 1ms/sample - loss: 1.2762 - acc: 0.5371 - val_loss: 1.2036 - val_acc: 0.5634\n",
      "Epoch 10/30\n",
      "5991/5991 [==============================] - 7s 1ms/sample - loss: 1.2424 - acc: 0.5523 - val_loss: 1.1762 - val_acc: 0.5681\n",
      "Epoch 11/30\n",
      "5991/5991 [==============================] - 7s 1ms/sample - loss: 1.2033 - acc: 0.5665 - val_loss: 1.1489 - val_acc: 0.5728\n",
      "Epoch 12/30\n",
      "5991/5991 [==============================] - 7s 1ms/sample - loss: 1.1801 - acc: 0.5739 - val_loss: 1.1296 - val_acc: 0.5988\n",
      "Epoch 13/30\n",
      "5991/5991 [==============================] - 7s 1ms/sample - loss: 1.1480 - acc: 0.5967 - val_loss: 1.0854 - val_acc: 0.6148\n",
      "Epoch 14/30\n",
      "5991/5991 [==============================] - 7s 1ms/sample - loss: 1.1050 - acc: 0.6131 - val_loss: 1.0649 - val_acc: 0.6268\n",
      "Epoch 15/30\n",
      "5991/5991 [==============================] - 7s 1ms/sample - loss: 1.0771 - acc: 0.6151 - val_loss: 1.0479 - val_acc: 0.6255\n",
      "Epoch 16/30\n",
      "5991/5991 [==============================] - 7s 1ms/sample - loss: 1.0506 - acc: 0.6336 - val_loss: 1.0407 - val_acc: 0.6335\n",
      "Epoch 17/30\n",
      "5991/5991 [==============================] - 7s 1ms/sample - loss: 1.0261 - acc: 0.6326 - val_loss: 1.0041 - val_acc: 0.6462\n",
      "Epoch 18/30\n",
      "5991/5991 [==============================] - 7s 1ms/sample - loss: 1.0032 - acc: 0.6401 - val_loss: 0.9996 - val_acc: 0.6362\n",
      "Epoch 19/30\n",
      "5991/5991 [==============================] - 7s 1ms/sample - loss: 0.9835 - acc: 0.6503 - val_loss: 0.9775 - val_acc: 0.6475\n",
      "Epoch 20/30\n",
      "5991/5991 [==============================] - 7s 1ms/sample - loss: 0.9621 - acc: 0.6655 - val_loss: 0.9611 - val_acc: 0.6602\n",
      "Epoch 21/30\n",
      "5991/5991 [==============================] - 7s 1ms/sample - loss: 0.9415 - acc: 0.6727 - val_loss: 0.9587 - val_acc: 0.6709\n",
      "Epoch 22/30\n",
      "5991/5991 [==============================] - 7s 1ms/sample - loss: 0.9146 - acc: 0.6795 - val_loss: 0.9682 - val_acc: 0.6629\n",
      "Epoch 23/30\n",
      "5991/5991 [==============================] - 7s 1ms/sample - loss: 0.9041 - acc: 0.6807 - val_loss: 0.9393 - val_acc: 0.6816\n",
      "Epoch 24/30\n",
      "5991/5991 [==============================] - 7s 1ms/sample - loss: 0.8836 - acc: 0.6892 - val_loss: 0.9266 - val_acc: 0.6796\n",
      "Epoch 25/30\n",
      "5991/5991 [==============================] - 7s 1ms/sample - loss: 0.8784 - acc: 0.6899 - val_loss: 0.9133 - val_acc: 0.6909\n",
      "Epoch 26/30\n",
      "5991/5991 [==============================] - 7s 1ms/sample - loss: 0.8530 - acc: 0.7051 - val_loss: 0.9117 - val_acc: 0.6862\n",
      "Epoch 27/30\n",
      "5991/5991 [==============================] - 7s 1ms/sample - loss: 0.8252 - acc: 0.7166 - val_loss: 0.8999 - val_acc: 0.7009\n",
      "Epoch 28/30\n",
      "5991/5991 [==============================] - 7s 1ms/sample - loss: 0.8142 - acc: 0.7187 - val_loss: 0.9015 - val_acc: 0.6836\n",
      "Epoch 29/30\n",
      "5991/5991 [==============================] - 7s 1ms/sample - loss: 0.8061 - acc: 0.7217 - val_loss: 0.8782 - val_acc: 0.7003\n",
      "Epoch 30/30\n",
      "5991/5991 [==============================] - 7s 1ms/sample - loss: 0.7966 - acc: 0.7182 - val_loss: 0.8753 - val_acc: 0.7003\n"
     ]
    }
   ],
   "source": [
    "history = model.fit(X_train, y_train, validation_data=(X_validation, y_validation), batch_size=32, epochs=30)"
   ]
  },
  {
   "cell_type": "code",
   "execution_count": 143,
   "metadata": {},
   "outputs": [],
   "source": [
    "def predict(model, X, y):\n",
    "\n",
    "    X = X[np.newaxis, ...] \n",
    "    X = X[...,np.newaxis] # array shape (1, 130, 13, 1)\n",
    "\n",
    "    # perform prediction\n",
    "    prediction = model.predict(X)\n",
    "\n",
    "    # get index with max value\n",
    "    predicted_index = np.argmax(prediction, axis=1)\n",
    "\n",
    "    print(\"Target: {}, Predicted label: {}\".format(y, predicted_index))"
   ]
  },
  {
   "cell_type": "code",
   "execution_count": 144,
   "metadata": {},
   "outputs": [
    {
     "name": "stdout",
     "output_type": "stream",
     "text": [
      "Target: 6, Predicted label: [6]\n"
     ]
    }
   ],
   "source": [
    "predict(model,X_to_predict,y_to_predict)"
   ]
  },
  {
   "cell_type": "code",
   "execution_count": 145,
   "metadata": {},
   "outputs": [
    {
     "data": {
      "text/plain": [
       "'C:\\\\Users\\\\sanja'"
      ]
     },
     "execution_count": 145,
     "metadata": {},
     "output_type": "execute_result"
    }
   ],
   "source": [
    "pwd\n"
   ]
  },
  {
   "cell_type": "code",
   "execution_count": null,
   "metadata": {},
   "outputs": [],
   "source": []
  }
 ],
 "metadata": {
  "kernelspec": {
   "display_name": "Python 3",
   "language": "python",
   "name": "python3"
  },
  "language_info": {
   "codemirror_mode": {
    "name": "ipython",
    "version": 3
   },
   "file_extension": ".py",
   "mimetype": "text/x-python",
   "name": "python",
   "nbconvert_exporter": "python",
   "pygments_lexer": "ipython3",
   "version": "3.7.9"
  }
 },
 "nbformat": 4,
 "nbformat_minor": 4
}
